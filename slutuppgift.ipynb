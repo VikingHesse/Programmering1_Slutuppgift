{
 "metadata": {
  "language_info": {
   "codemirror_mode": {
    "name": "ipython",
    "version": 3
   },
   "file_extension": ".py",
   "mimetype": "text/x-python",
   "name": "python",
   "nbconvert_exporter": "python",
   "pygments_lexer": "ipython3",
   "version": "3.8.3"
  },
  "orig_nbformat": 2,
  "kernelspec": {
   "name": "python383jvsc74a57bd05fa782649c743c22c8d6102b311018506ae76162031c08e4ab1b61206b2e17dd",
   "display_name": "Python 3.8.3 64-bit ('base': conda)"
  }
 },
 "nbformat": 4,
 "nbformat_minor": 2,
 "cells": [
  {
   "cell_type": "code",
   "execution_count": 52,
   "metadata": {},
   "outputs": [],
   "source": [
    "import plotly.express as px\n",
    "\n",
    "fig = px.bar(df, x=\"Date\", y=\"National_Daily_Deaths\", title=\"Antalet döda i COVID per dag\")\n",
    "\n",
    "fig.write_html(\"index.html\")"
   ]
  },
  {
   "cell_type": "code",
   "execution_count": 7,
   "metadata": {},
   "outputs": [],
   "source": [
    "df = pd.read_csv(\"Gender_Data.csv\", encoding=\"ISO-8859-1\", header=0)\n",
    "\n",
    "fig = px.pie(df, values='Total_Deaths', names='Gender', title='Antalet dödsfall män kontra kvinnor')\n",
    "\n",
    "fig.write_html(\"index.html\")"
   ]
  },
  {
   "cell_type": "code",
   "execution_count": 92,
   "metadata": {
    "tags": []
   },
   "outputs": [],
   "source": [
    "import pandas as pd\n",
    "import plotly.express as px\n",
    "df = pd.read_csv(\"Municipality_Weekly_Data.csv\", encoding=\"UTF-8\", header=0)\n",
    "#Sorterar ut olika delar av göteborg \n",
    "\n",
    "ef = df[df[\"Municipality\"].str.contains(\"Göteborg\")]\n",
    "\n",
    "fig = px.bar(ef, x=\"Municipality\", y=\"Weekly_Cases_per_100k_Pop\", color=\"Municipality\", animation_frame=\"Week_Number\", animation_group=\"Municipality\", range_y=[0,75], title=\"Antalet fall i Göteborg per 100k veckorna 1-53 2020\")\n",
    "\n",
    "#Stulen kod tillfälligt, försöker hitta egen lösning\n",
    "fig['layout']['sliders'][0]['pad']=dict(r= 10, t= 150,)\n",
    "\n",
    "fig.write_html(\"index.html\")\n"
   ]
  },
  {
   "cell_type": "code",
   "execution_count": null,
   "metadata": {},
   "outputs": [],
   "source": []
  }
 ]
}