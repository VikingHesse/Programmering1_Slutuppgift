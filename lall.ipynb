{
 "metadata": {
  "language_info": {
   "codemirror_mode": {
    "name": "ipython",
    "version": 3
   },
   "file_extension": ".py",
   "mimetype": "text/x-python",
   "name": "python",
   "nbconvert_exporter": "python",
   "pygments_lexer": "ipython3",
   "version": "3.9.5"
  },
  "orig_nbformat": 2,
  "kernelspec": {
   "name": "python395jvsc74a57bd0adc9bb8b32507af041d48f79beff297e5596f2d08c3fa998d68427d7acb13fb8",
   "display_name": "Python 3.9.5 64-bit"
  }
 },
 "nbformat": 4,
 "nbformat_minor": 2,
 "cells": [
  {
   "cell_type": "code",
   "execution_count": 32,
   "metadata": {},
   "outputs": [
    {
     "output_type": "display_data",
     "data": {
      "application/vnd.plotly.v1+json": {
       "config": {
        "plotlyServerURL": "https://plot.ly"
       },
       "data": [
        {
         "geo": "geo",
         "hovertemplate": "<b>%{hovertext}</b><br><br>Region=Blekinge<br>Cases_per_100k_Pop=%{marker.size}<br>lat=%{lat}<br>lon=%{lon}<extra></extra>",
         "hovertext": [
          "Blekinge"
         ],
         "lat": [
          56.2784
         ],
         "legendgroup": "Blekinge",
         "lon": [
          15.018
         ],
         "marker": {
          "color": "#636efa",
          "size": [
           4790.546875
          ],
          "sizemode": "area",
          "sizeref": 75.450693359375,
          "symbol": "circle"
         },
         "mode": "markers",
         "name": "Blekinge",
         "showlegend": true,
         "type": "scattergeo"
        },
        {
         "geo": "geo",
         "hovertemplate": "<b>%{hovertext}</b><br><br>Region=Dalarna<br>Cases_per_100k_Pop=%{marker.size}<br>lat=%{lat}<br>lon=%{lon}<extra></extra>",
         "hovertext": [
          "Dalarna"
         ],
         "lat": [
          61.0917
         ],
         "legendgroup": "Dalarna",
         "lon": [
          14.6664
         ],
         "marker": {
          "color": "#EF553B",
          "size": [
           4841.5439453125
          ],
          "sizemode": "area",
          "sizeref": 75.450693359375,
          "symbol": "circle"
         },
         "mode": "markers",
         "name": "Dalarna",
         "showlegend": true,
         "type": "scattergeo"
        },
        {
         "geo": "geo",
         "hovertemplate": "<b>%{hovertext}</b><br><br>Region=Gotland<br>Cases_per_100k_Pop=%{marker.size}<br>lat=%{lat}<br>lon=%{lon}<extra></extra>",
         "hovertext": [
          "Gotland"
         ],
         "lat": [
          57.4684
         ],
         "legendgroup": "Gotland",
         "lon": [
          18.4867
         ],
         "marker": {
          "color": "#00cc96",
          "size": [
           4439.90234375
          ],
          "sizemode": "area",
          "sizeref": 75.450693359375,
          "symbol": "circle"
         },
         "mode": "markers",
         "name": "Gotland",
         "showlegend": true,
         "type": "scattergeo"
        },
        {
         "geo": "geo",
         "hovertemplate": "<b>%{hovertext}</b><br><br>Region=Gävleborg<br>Cases_per_100k_Pop=%{marker.size}<br>lat=%{lat}<br>lon=%{lon}<extra></extra>",
         "hovertext": [
          "Gävleborg"
         ],
         "lat": [
          61.3012
         ],
         "legendgroup": "Gävleborg",
         "lon": [
          16.1534
         ],
         "marker": {
          "color": "#ab63fa",
          "size": [
           6759.64404296875
          ],
          "sizemode": "area",
          "sizeref": 75.450693359375,
          "symbol": "circle"
         },
         "mode": "markers",
         "name": "Gävleborg",
         "showlegend": true,
         "type": "scattergeo"
        },
        {
         "geo": "geo",
         "hovertemplate": "<b>%{hovertext}</b><br><br>Region=Halland<br>Cases_per_100k_Pop=%{marker.size}<br>lat=%{lat}<br>lon=%{lon}<extra></extra>",
         "hovertext": [
          "Halland"
         ],
         "lat": [
          56.8967
         ],
         "legendgroup": "Halland",
         "lon": [
          12.8034
         ],
         "marker": {
          "color": "#FFA15A",
          "size": [
           6305.86376953125
          ],
          "sizemode": "area",
          "sizeref": 75.450693359375,
          "symbol": "circle"
         },
         "mode": "markers",
         "name": "Halland",
         "showlegend": true,
         "type": "scattergeo"
        },
        {
         "geo": "geo",
         "hovertemplate": "<b>%{hovertext}</b><br><br>Region=Jämtland Härjedalen<br>Cases_per_100k_Pop=%{marker.size}<br>lat=%{lat}<br>lon=%{lon}<extra></extra>",
         "hovertext": [
          "Jämtland Härjedalen"
         ],
         "lat": [
          62.3693
         ],
         "legendgroup": "Jämtland Härjedalen",
         "lon": [
          13.408
         ],
         "marker": {
          "color": "#19d3f3",
          "size": [
           4777.15771484375
          ],
          "sizemode": "area",
          "sizeref": 75.450693359375,
          "symbol": "circle"
         },
         "mode": "markers",
         "name": "Jämtland Härjedalen",
         "showlegend": true,
         "type": "scattergeo"
        },
        {
         "geo": "geo",
         "hovertemplate": "<b>%{hovertext}</b><br><br>Region=Jönköping<br>Cases_per_100k_Pop=%{marker.size}<br>lat=%{lat}<br>lon=%{lon}<extra></extra>",
         "hovertext": [
          "Jönköping"
         ],
         "lat": [
          57.7826
         ],
         "legendgroup": "Jönköping",
         "lon": [
          14.1618
         ],
         "marker": {
          "color": "#FF6692",
          "size": [
           6665.5849609375
          ],
          "sizemode": "area",
          "sizeref": 75.450693359375,
          "symbol": "circle"
         },
         "mode": "markers",
         "name": "Jönköping",
         "showlegend": true,
         "type": "scattergeo"
        },
        {
         "geo": "geo",
         "hovertemplate": "<b>%{hovertext}</b><br><br>Region=Kalmar<br>Cases_per_100k_Pop=%{marker.size}<br>lat=%{lat}<br>lon=%{lon}<extra></extra>",
         "hovertext": [
          "Kalmar"
         ],
         "lat": [
          56.6634
         ],
         "legendgroup": "Kalmar",
         "lon": [
          16.3568
         ],
         "marker": {
          "color": "#B6E880",
          "size": [
           4233.517578125
          ],
          "sizemode": "area",
          "sizeref": 75.450693359375,
          "symbol": "circle"
         },
         "mode": "markers",
         "name": "Kalmar",
         "showlegend": true,
         "type": "scattergeo"
        },
        {
         "geo": "geo",
         "hovertemplate": "<b>%{hovertext}</b><br><br>Region=Kronoberg<br>Cases_per_100k_Pop=%{marker.size}<br>lat=%{lat}<br>lon=%{lon}<extra></extra>",
         "hovertext": [
          "Kronoberg"
         ],
         "lat": [
          56.7183
         ],
         "legendgroup": "Kronoberg",
         "lon": [
          14.4115
         ],
         "marker": {
          "color": "#FF97FF",
          "size": [
           6492.31396484375
          ],
          "sizemode": "area",
          "sizeref": 75.450693359375,
          "symbol": "circle"
         },
         "mode": "markers",
         "name": "Kronoberg",
         "showlegend": true,
         "type": "scattergeo"
        },
        {
         "geo": "geo",
         "hovertemplate": "<b>%{hovertext}</b><br><br>Region=Norrbotten<br>Cases_per_100k_Pop=%{marker.size}<br>lat=%{lat}<br>lon=%{lon}<extra></extra>",
         "hovertext": [
          "Norrbotten"
         ],
         "lat": [
          66.8309
         ],
         "legendgroup": "Norrbotten",
         "lon": [
          20.3992
         ],
         "marker": {
          "color": "#FECB52",
          "size": [
           4389.1669921875
          ],
          "sizemode": "area",
          "sizeref": 75.450693359375,
          "symbol": "circle"
         },
         "mode": "markers",
         "name": "Norrbotten",
         "showlegend": true,
         "type": "scattergeo"
        },
        {
         "geo": "geo",
         "hovertemplate": "<b>%{hovertext}</b><br><br>Region=Skåne<br>Cases_per_100k_Pop=%{marker.size}<br>lat=%{lat}<br>lon=%{lon}<extra></extra>",
         "hovertext": [
          "Skåne"
         ],
         "lat": [
          55.9903
         ],
         "legendgroup": "Skåne",
         "lon": [
          13.5958
         ],
         "marker": {
          "color": "#636efa",
          "size": [
           7545.0693359375
          ],
          "sizemode": "area",
          "sizeref": 75.450693359375,
          "symbol": "circle"
         },
         "mode": "markers",
         "name": "Skåne",
         "showlegend": true,
         "type": "scattergeo"
        },
        {
         "geo": "geo",
         "hovertemplate": "<b>%{hovertext}</b><br><br>Region=Stockholm<br>Cases_per_100k_Pop=%{marker.size}<br>lat=%{lat}<br>lon=%{lon}<extra></extra>",
         "hovertext": [
          "Stockholm"
         ],
         "lat": [
          59.3293
         ],
         "legendgroup": "Stockholm",
         "lon": [
          18.0686
         ],
         "marker": {
          "color": "#EF553B",
          "size": [
           6079.8095703125
          ],
          "sizemode": "area",
          "sizeref": 75.450693359375,
          "symbol": "circle"
         },
         "mode": "markers",
         "name": "Stockholm",
         "showlegend": true,
         "type": "scattergeo"
        },
        {
         "geo": "geo",
         "hovertemplate": "<b>%{hovertext}</b><br><br>Region=Sörmland<br>Cases_per_100k_Pop=%{marker.size}<br>lat=%{lat}<br>lon=%{lon}<extra></extra>",
         "hovertext": [
          "Sörmland"
         ],
         "lat": [
          59.0336
         ],
         "legendgroup": "Sörmland",
         "lon": [
          16.7519
         ],
         "marker": {
          "color": "#00cc96",
          "size": [
           4104.994140625
          ],
          "sizemode": "area",
          "sizeref": 75.450693359375,
          "symbol": "circle"
         },
         "mode": "markers",
         "name": "Sörmland",
         "showlegend": true,
         "type": "scattergeo"
        },
        {
         "geo": "geo",
         "hovertemplate": "<b>%{hovertext}</b><br><br>Region=Uppsala<br>Cases_per_100k_Pop=%{marker.size}<br>lat=%{lat}<br>lon=%{lon}<extra></extra>",
         "hovertext": [
          "Uppsala"
         ],
         "lat": [
          59.8586
         ],
         "legendgroup": "Uppsala",
         "lon": [
          17.6389
         ],
         "marker": {
          "color": "#ab63fa",
          "size": [
           5911.7099609375
          ],
          "sizemode": "area",
          "sizeref": 75.450693359375,
          "symbol": "circle"
         },
         "mode": "markers",
         "name": "Uppsala",
         "showlegend": true,
         "type": "scattergeo"
        },
        {
         "geo": "geo",
         "hovertemplate": "<b>%{hovertext}</b><br><br>Region=Värmland<br>Cases_per_100k_Pop=%{marker.size}<br>lat=%{lat}<br>lon=%{lon}<extra></extra>",
         "hovertext": [
          "Värmland"
         ],
         "lat": [
          59.7294
         ],
         "legendgroup": "Värmland",
         "lon": [
          13.2354
         ],
         "marker": {
          "color": "#FFA15A",
          "size": [
           2946.029541015625
          ],
          "sizemode": "area",
          "sizeref": 75.450693359375,
          "symbol": "circle"
         },
         "mode": "markers",
         "name": "Värmland",
         "showlegend": true,
         "type": "scattergeo"
        },
        {
         "geo": "geo",
         "hovertemplate": "<b>%{hovertext}</b><br><br>Region=Västerbotten<br>Cases_per_100k_Pop=%{marker.size}<br>lat=%{lat}<br>lon=%{lon}<extra></extra>",
         "hovertext": [
          "Västerbotten"
         ],
         "lat": [
          65.3337
         ],
         "legendgroup": "Västerbotten",
         "lon": [
          16.5162
         ],
         "marker": {
          "color": "#19d3f3",
          "size": [
           4400.2265625
          ],
          "sizemode": "area",
          "sizeref": 75.450693359375,
          "symbol": "circle"
         },
         "mode": "markers",
         "name": "Västerbotten",
         "showlegend": true,
         "type": "scattergeo"
        },
        {
         "geo": "geo",
         "hovertemplate": "<b>%{hovertext}</b><br><br>Region=Västernorrland<br>Cases_per_100k_Pop=%{marker.size}<br>lat=%{lat}<br>lon=%{lon}<extra></extra>",
         "hovertext": [
          "Västernorrland"
         ],
         "lat": [
          63.4276
         ],
         "legendgroup": "Västernorrland",
         "lon": [
          17.7292
         ],
         "marker": {
          "color": "#FF6692",
          "size": [
           5720.06201171875
          ],
          "sizemode": "area",
          "sizeref": 75.450693359375,
          "symbol": "circle"
         },
         "mode": "markers",
         "name": "Västernorrland",
         "showlegend": true,
         "type": "scattergeo"
        },
        {
         "geo": "geo",
         "hovertemplate": "<b>%{hovertext}</b><br><br>Region=Västmanland<br>Cases_per_100k_Pop=%{marker.size}<br>lat=%{lat}<br>lon=%{lon}<extra></extra>",
         "hovertext": [
          "Västmanland"
         ],
         "lat": [
          59.6714
         ],
         "legendgroup": "Västmanland",
         "lon": [
          16.2159
         ],
         "marker": {
          "color": "#B6E880",
          "size": [
           6310.79052734375
          ],
          "sizemode": "area",
          "sizeref": 75.450693359375,
          "symbol": "circle"
         },
         "mode": "markers",
         "name": "Västmanland",
         "showlegend": true,
         "type": "scattergeo"
        },
        {
         "geo": "geo",
         "hovertemplate": "<b>%{hovertext}</b><br><br>Region=Västra Götaland<br>Cases_per_100k_Pop=%{marker.size}<br>lat=%{lat}<br>lon=%{lon}<extra></extra>",
         "hovertext": [
          "Västra Götaland"
         ],
         "lat": [
          58.2528
         ],
         "legendgroup": "Västra Götaland",
         "lon": [
          13.0596
         ],
         "marker": {
          "color": "#FF97FF",
          "size": [
           6118.38232421875
          ],
          "sizemode": "area",
          "sizeref": 75.450693359375,
          "symbol": "circle"
         },
         "mode": "markers",
         "name": "Västra Götaland",
         "showlegend": true,
         "type": "scattergeo"
        },
        {
         "geo": "geo",
         "hovertemplate": "<b>%{hovertext}</b><br><br>Region=Örebro<br>Cases_per_100k_Pop=%{marker.size}<br>lat=%{lat}<br>lon=%{lon}<extra></extra>",
         "hovertext": [
          "Örebro"
         ],
         "lat": [
          59.2753
         ],
         "legendgroup": "Örebro",
         "lon": [
          15.2134
         ],
         "marker": {
          "color": "#FECB52",
          "size": [
           5555.68310546875
          ],
          "sizemode": "area",
          "sizeref": 75.450693359375,
          "symbol": "circle"
         },
         "mode": "markers",
         "name": "Örebro",
         "showlegend": true,
         "type": "scattergeo"
        },
        {
         "geo": "geo",
         "hovertemplate": "<b>%{hovertext}</b><br><br>Region=Östergötland<br>Cases_per_100k_Pop=%{marker.size}<br>lat=%{lat}<br>lon=%{lon}<extra></extra>",
         "hovertext": [
          "Östergötland"
         ],
         "lat": [
          58.3454
         ],
         "legendgroup": "Östergötland",
         "lon": [
          15.5198
         ],
         "marker": {
          "color": "#636efa",
          "size": [
           4540.328125
          ],
          "sizemode": "area",
          "sizeref": 75.450693359375,
          "symbol": "circle"
         },
         "mode": "markers",
         "name": "Östergötland",
         "showlegend": true,
         "type": "scattergeo"
        }
       ],
       "layout": {
        "geo": {
         "center": {},
         "domain": {
          "x": [
           0,
           1
          ],
          "y": [
           0,
           1
          ]
         },
         "fitbounds": "locations",
         "scope": "europe"
        },
        "legend": {
         "itemsizing": "constant",
         "title": {
          "text": "Region"
         },
         "tracegroupgap": 0
        },
        "margin": {
         "t": 60
        },
        "template": {
         "data": {
          "bar": [
           {
            "error_x": {
             "color": "#2a3f5f"
            },
            "error_y": {
             "color": "#2a3f5f"
            },
            "marker": {
             "line": {
              "color": "#E5ECF6",
              "width": 0.5
             }
            },
            "type": "bar"
           }
          ],
          "barpolar": [
           {
            "marker": {
             "line": {
              "color": "#E5ECF6",
              "width": 0.5
             }
            },
            "type": "barpolar"
           }
          ],
          "carpet": [
           {
            "aaxis": {
             "endlinecolor": "#2a3f5f",
             "gridcolor": "white",
             "linecolor": "white",
             "minorgridcolor": "white",
             "startlinecolor": "#2a3f5f"
            },
            "baxis": {
             "endlinecolor": "#2a3f5f",
             "gridcolor": "white",
             "linecolor": "white",
             "minorgridcolor": "white",
             "startlinecolor": "#2a3f5f"
            },
            "type": "carpet"
           }
          ],
          "choropleth": [
           {
            "colorbar": {
             "outlinewidth": 0,
             "ticks": ""
            },
            "type": "choropleth"
           }
          ],
          "contour": [
           {
            "colorbar": {
             "outlinewidth": 0,
             "ticks": ""
            },
            "colorscale": [
             [
              0,
              "#0d0887"
             ],
             [
              0.1111111111111111,
              "#46039f"
             ],
             [
              0.2222222222222222,
              "#7201a8"
             ],
             [
              0.3333333333333333,
              "#9c179e"
             ],
             [
              0.4444444444444444,
              "#bd3786"
             ],
             [
              0.5555555555555556,
              "#d8576b"
             ],
             [
              0.6666666666666666,
              "#ed7953"
             ],
             [
              0.7777777777777778,
              "#fb9f3a"
             ],
             [
              0.8888888888888888,
              "#fdca26"
             ],
             [
              1,
              "#f0f921"
             ]
            ],
            "type": "contour"
           }
          ],
          "contourcarpet": [
           {
            "colorbar": {
             "outlinewidth": 0,
             "ticks": ""
            },
            "type": "contourcarpet"
           }
          ],
          "heatmap": [
           {
            "colorbar": {
             "outlinewidth": 0,
             "ticks": ""
            },
            "colorscale": [
             [
              0,
              "#0d0887"
             ],
             [
              0.1111111111111111,
              "#46039f"
             ],
             [
              0.2222222222222222,
              "#7201a8"
             ],
             [
              0.3333333333333333,
              "#9c179e"
             ],
             [
              0.4444444444444444,
              "#bd3786"
             ],
             [
              0.5555555555555556,
              "#d8576b"
             ],
             [
              0.6666666666666666,
              "#ed7953"
             ],
             [
              0.7777777777777778,
              "#fb9f3a"
             ],
             [
              0.8888888888888888,
              "#fdca26"
             ],
             [
              1,
              "#f0f921"
             ]
            ],
            "type": "heatmap"
           }
          ],
          "heatmapgl": [
           {
            "colorbar": {
             "outlinewidth": 0,
             "ticks": ""
            },
            "colorscale": [
             [
              0,
              "#0d0887"
             ],
             [
              0.1111111111111111,
              "#46039f"
             ],
             [
              0.2222222222222222,
              "#7201a8"
             ],
             [
              0.3333333333333333,
              "#9c179e"
             ],
             [
              0.4444444444444444,
              "#bd3786"
             ],
             [
              0.5555555555555556,
              "#d8576b"
             ],
             [
              0.6666666666666666,
              "#ed7953"
             ],
             [
              0.7777777777777778,
              "#fb9f3a"
             ],
             [
              0.8888888888888888,
              "#fdca26"
             ],
             [
              1,
              "#f0f921"
             ]
            ],
            "type": "heatmapgl"
           }
          ],
          "histogram": [
           {
            "marker": {
             "colorbar": {
              "outlinewidth": 0,
              "ticks": ""
             }
            },
            "type": "histogram"
           }
          ],
          "histogram2d": [
           {
            "colorbar": {
             "outlinewidth": 0,
             "ticks": ""
            },
            "colorscale": [
             [
              0,
              "#0d0887"
             ],
             [
              0.1111111111111111,
              "#46039f"
             ],
             [
              0.2222222222222222,
              "#7201a8"
             ],
             [
              0.3333333333333333,
              "#9c179e"
             ],
             [
              0.4444444444444444,
              "#bd3786"
             ],
             [
              0.5555555555555556,
              "#d8576b"
             ],
             [
              0.6666666666666666,
              "#ed7953"
             ],
             [
              0.7777777777777778,
              "#fb9f3a"
             ],
             [
              0.8888888888888888,
              "#fdca26"
             ],
             [
              1,
              "#f0f921"
             ]
            ],
            "type": "histogram2d"
           }
          ],
          "histogram2dcontour": [
           {
            "colorbar": {
             "outlinewidth": 0,
             "ticks": ""
            },
            "colorscale": [
             [
              0,
              "#0d0887"
             ],
             [
              0.1111111111111111,
              "#46039f"
             ],
             [
              0.2222222222222222,
              "#7201a8"
             ],
             [
              0.3333333333333333,
              "#9c179e"
             ],
             [
              0.4444444444444444,
              "#bd3786"
             ],
             [
              0.5555555555555556,
              "#d8576b"
             ],
             [
              0.6666666666666666,
              "#ed7953"
             ],
             [
              0.7777777777777778,
              "#fb9f3a"
             ],
             [
              0.8888888888888888,
              "#fdca26"
             ],
             [
              1,
              "#f0f921"
             ]
            ],
            "type": "histogram2dcontour"
           }
          ],
          "mesh3d": [
           {
            "colorbar": {
             "outlinewidth": 0,
             "ticks": ""
            },
            "type": "mesh3d"
           }
          ],
          "parcoords": [
           {
            "line": {
             "colorbar": {
              "outlinewidth": 0,
              "ticks": ""
             }
            },
            "type": "parcoords"
           }
          ],
          "pie": [
           {
            "automargin": true,
            "type": "pie"
           }
          ],
          "scatter": [
           {
            "marker": {
             "colorbar": {
              "outlinewidth": 0,
              "ticks": ""
             }
            },
            "type": "scatter"
           }
          ],
          "scatter3d": [
           {
            "line": {
             "colorbar": {
              "outlinewidth": 0,
              "ticks": ""
             }
            },
            "marker": {
             "colorbar": {
              "outlinewidth": 0,
              "ticks": ""
             }
            },
            "type": "scatter3d"
           }
          ],
          "scattercarpet": [
           {
            "marker": {
             "colorbar": {
              "outlinewidth": 0,
              "ticks": ""
             }
            },
            "type": "scattercarpet"
           }
          ],
          "scattergeo": [
           {
            "marker": {
             "colorbar": {
              "outlinewidth": 0,
              "ticks": ""
             }
            },
            "type": "scattergeo"
           }
          ],
          "scattergl": [
           {
            "marker": {
             "colorbar": {
              "outlinewidth": 0,
              "ticks": ""
             }
            },
            "type": "scattergl"
           }
          ],
          "scattermapbox": [
           {
            "marker": {
             "colorbar": {
              "outlinewidth": 0,
              "ticks": ""
             }
            },
            "type": "scattermapbox"
           }
          ],
          "scatterpolar": [
           {
            "marker": {
             "colorbar": {
              "outlinewidth": 0,
              "ticks": ""
             }
            },
            "type": "scatterpolar"
           }
          ],
          "scatterpolargl": [
           {
            "marker": {
             "colorbar": {
              "outlinewidth": 0,
              "ticks": ""
             }
            },
            "type": "scatterpolargl"
           }
          ],
          "scatterternary": [
           {
            "marker": {
             "colorbar": {
              "outlinewidth": 0,
              "ticks": ""
             }
            },
            "type": "scatterternary"
           }
          ],
          "surface": [
           {
            "colorbar": {
             "outlinewidth": 0,
             "ticks": ""
            },
            "colorscale": [
             [
              0,
              "#0d0887"
             ],
             [
              0.1111111111111111,
              "#46039f"
             ],
             [
              0.2222222222222222,
              "#7201a8"
             ],
             [
              0.3333333333333333,
              "#9c179e"
             ],
             [
              0.4444444444444444,
              "#bd3786"
             ],
             [
              0.5555555555555556,
              "#d8576b"
             ],
             [
              0.6666666666666666,
              "#ed7953"
             ],
             [
              0.7777777777777778,
              "#fb9f3a"
             ],
             [
              0.8888888888888888,
              "#fdca26"
             ],
             [
              1,
              "#f0f921"
             ]
            ],
            "type": "surface"
           }
          ],
          "table": [
           {
            "cells": {
             "fill": {
              "color": "#EBF0F8"
             },
             "line": {
              "color": "white"
             }
            },
            "header": {
             "fill": {
              "color": "#C8D4E3"
             },
             "line": {
              "color": "white"
             }
            },
            "type": "table"
           }
          ]
         },
         "layout": {
          "annotationdefaults": {
           "arrowcolor": "#2a3f5f",
           "arrowhead": 0,
           "arrowwidth": 1
          },
          "autotypenumbers": "strict",
          "coloraxis": {
           "colorbar": {
            "outlinewidth": 0,
            "ticks": ""
           }
          },
          "colorscale": {
           "diverging": [
            [
             0,
             "#8e0152"
            ],
            [
             0.1,
             "#c51b7d"
            ],
            [
             0.2,
             "#de77ae"
            ],
            [
             0.3,
             "#f1b6da"
            ],
            [
             0.4,
             "#fde0ef"
            ],
            [
             0.5,
             "#f7f7f7"
            ],
            [
             0.6,
             "#e6f5d0"
            ],
            [
             0.7,
             "#b8e186"
            ],
            [
             0.8,
             "#7fbc41"
            ],
            [
             0.9,
             "#4d9221"
            ],
            [
             1,
             "#276419"
            ]
           ],
           "sequential": [
            [
             0,
             "#0d0887"
            ],
            [
             0.1111111111111111,
             "#46039f"
            ],
            [
             0.2222222222222222,
             "#7201a8"
            ],
            [
             0.3333333333333333,
             "#9c179e"
            ],
            [
             0.4444444444444444,
             "#bd3786"
            ],
            [
             0.5555555555555556,
             "#d8576b"
            ],
            [
             0.6666666666666666,
             "#ed7953"
            ],
            [
             0.7777777777777778,
             "#fb9f3a"
            ],
            [
             0.8888888888888888,
             "#fdca26"
            ],
            [
             1,
             "#f0f921"
            ]
           ],
           "sequentialminus": [
            [
             0,
             "#0d0887"
            ],
            [
             0.1111111111111111,
             "#46039f"
            ],
            [
             0.2222222222222222,
             "#7201a8"
            ],
            [
             0.3333333333333333,
             "#9c179e"
            ],
            [
             0.4444444444444444,
             "#bd3786"
            ],
            [
             0.5555555555555556,
             "#d8576b"
            ],
            [
             0.6666666666666666,
             "#ed7953"
            ],
            [
             0.7777777777777778,
             "#fb9f3a"
            ],
            [
             0.8888888888888888,
             "#fdca26"
            ],
            [
             1,
             "#f0f921"
            ]
           ]
          },
          "colorway": [
           "#636efa",
           "#EF553B",
           "#00cc96",
           "#ab63fa",
           "#FFA15A",
           "#19d3f3",
           "#FF6692",
           "#B6E880",
           "#FF97FF",
           "#FECB52"
          ],
          "font": {
           "color": "#2a3f5f"
          },
          "geo": {
           "bgcolor": "white",
           "lakecolor": "white",
           "landcolor": "#E5ECF6",
           "showlakes": true,
           "showland": true,
           "subunitcolor": "white"
          },
          "hoverlabel": {
           "align": "left"
          },
          "hovermode": "closest",
          "mapbox": {
           "style": "light"
          },
          "paper_bgcolor": "white",
          "plot_bgcolor": "#E5ECF6",
          "polar": {
           "angularaxis": {
            "gridcolor": "white",
            "linecolor": "white",
            "ticks": ""
           },
           "bgcolor": "#E5ECF6",
           "radialaxis": {
            "gridcolor": "white",
            "linecolor": "white",
            "ticks": ""
           }
          },
          "scene": {
           "xaxis": {
            "backgroundcolor": "#E5ECF6",
            "gridcolor": "white",
            "gridwidth": 2,
            "linecolor": "white",
            "showbackground": true,
            "ticks": "",
            "zerolinecolor": "white"
           },
           "yaxis": {
            "backgroundcolor": "#E5ECF6",
            "gridcolor": "white",
            "gridwidth": 2,
            "linecolor": "white",
            "showbackground": true,
            "ticks": "",
            "zerolinecolor": "white"
           },
           "zaxis": {
            "backgroundcolor": "#E5ECF6",
            "gridcolor": "white",
            "gridwidth": 2,
            "linecolor": "white",
            "showbackground": true,
            "ticks": "",
            "zerolinecolor": "white"
           }
          },
          "shapedefaults": {
           "line": {
            "color": "#2a3f5f"
           }
          },
          "ternary": {
           "aaxis": {
            "gridcolor": "white",
            "linecolor": "white",
            "ticks": ""
           },
           "baxis": {
            "gridcolor": "white",
            "linecolor": "white",
            "ticks": ""
           },
           "bgcolor": "#E5ECF6",
           "caxis": {
            "gridcolor": "white",
            "linecolor": "white",
            "ticks": ""
           }
          },
          "title": {
           "x": 0.05
          },
          "xaxis": {
           "automargin": true,
           "gridcolor": "white",
           "linecolor": "white",
           "ticks": "",
           "title": {
            "standoff": 15
           },
           "zerolinecolor": "white",
           "zerolinewidth": 2
          },
          "yaxis": {
           "automargin": true,
           "gridcolor": "white",
           "linecolor": "white",
           "ticks": "",
           "title": {
            "standoff": 15
           },
           "zerolinecolor": "white",
           "zerolinewidth": 2
          }
         }
        }
       }
      }
     },
     "metadata": {}
    },
    {
     "output_type": "execute_result",
     "data": {
      "text/plain": [
       "                 Region  Total_Cases  Cases_per_100k_Pop  \\\n",
       "0              Blekinge         7646         4790.546875   \n",
       "1               Dalarna        13942         4841.543945   \n",
       "2               Gotland         2650         4439.902344   \n",
       "3             Gävleborg        19426         6759.644043   \n",
       "4               Halland        21052         6305.863770   \n",
       "5   Jämtland Härjedalen         6249         4777.157715   \n",
       "6             Jönköping        24236         6665.584961   \n",
       "7                Kalmar        10391         4233.517578   \n",
       "8             Kronoberg        13080         6492.313965   \n",
       "9            Norrbotten        10977         4389.166992   \n",
       "10                Skåne       103958         7545.069336   \n",
       "11            Stockholm       144522         6079.809570   \n",
       "12             Sörmland        12214         4104.994141   \n",
       "13              Uppsala        22684         5911.709961   \n",
       "14             Värmland         8320         2946.029541   \n",
       "15         Västerbotten        11957         4400.226562   \n",
       "16       Västernorrland        14034         5720.062012   \n",
       "17          Västmanland        17408         6310.790527   \n",
       "18      Västra Götaland       105596         6118.382324   \n",
       "19               Örebro        16934         5555.683105   \n",
       "20         Östergötland        21135         4540.328125   \n",
       "\n",
       "    Total_ICU_Admissions  Total_Deaths      lat      lon  \n",
       "0                     34           112  56.2784  15.0180  \n",
       "1                    101           302  61.0917  14.6664  \n",
       "2                     24            44  57.4684  18.4867  \n",
       "3                    150           482  61.3012  16.1534  \n",
       "4                    101           254  56.8967  12.8034  \n",
       "5                     46           100  62.3693  13.4080  \n",
       "6                    219           486  57.7826  14.1618  \n",
       "7                     61           207  56.6634  16.3568  \n",
       "8                     79           284  56.7183  14.4115  \n",
       "9                    114           212  66.8309  20.3992  \n",
       "10                   453          1474  55.9903  13.5958  \n",
       "11                  1530          3820  59.3293  18.0686  \n",
       "12                   223           389  59.0336  16.7519  \n",
       "13                   241           467  59.8586  17.6389  \n",
       "14                    64           162  59.7294  13.2354  \n",
       "15                    75           123  65.3337  16.5162  \n",
       "16                   112           387  63.4276  17.7292  \n",
       "17                    88           311  59.6714  16.2159  \n",
       "18                   926          1993  58.2528  13.0596  \n",
       "19                   135           285  59.2753  15.2134  \n",
       "20                   217           534  58.3454  15.5198  "
      ],
      "text/html": "<div>\n<style scoped>\n    .dataframe tbody tr th:only-of-type {\n        vertical-align: middle;\n    }\n\n    .dataframe tbody tr th {\n        vertical-align: top;\n    }\n\n    .dataframe thead th {\n        text-align: right;\n    }\n</style>\n<table border=\"1\" class=\"dataframe\">\n  <thead>\n    <tr style=\"text-align: right;\">\n      <th></th>\n      <th>Region</th>\n      <th>Total_Cases</th>\n      <th>Cases_per_100k_Pop</th>\n      <th>Total_ICU_Admissions</th>\n      <th>Total_Deaths</th>\n      <th>lat</th>\n      <th>lon</th>\n    </tr>\n  </thead>\n  <tbody>\n    <tr>\n      <th>0</th>\n      <td>Blekinge</td>\n      <td>7646</td>\n      <td>4790.546875</td>\n      <td>34</td>\n      <td>112</td>\n      <td>56.2784</td>\n      <td>15.0180</td>\n    </tr>\n    <tr>\n      <th>1</th>\n      <td>Dalarna</td>\n      <td>13942</td>\n      <td>4841.543945</td>\n      <td>101</td>\n      <td>302</td>\n      <td>61.0917</td>\n      <td>14.6664</td>\n    </tr>\n    <tr>\n      <th>2</th>\n      <td>Gotland</td>\n      <td>2650</td>\n      <td>4439.902344</td>\n      <td>24</td>\n      <td>44</td>\n      <td>57.4684</td>\n      <td>18.4867</td>\n    </tr>\n    <tr>\n      <th>3</th>\n      <td>Gävleborg</td>\n      <td>19426</td>\n      <td>6759.644043</td>\n      <td>150</td>\n      <td>482</td>\n      <td>61.3012</td>\n      <td>16.1534</td>\n    </tr>\n    <tr>\n      <th>4</th>\n      <td>Halland</td>\n      <td>21052</td>\n      <td>6305.863770</td>\n      <td>101</td>\n      <td>254</td>\n      <td>56.8967</td>\n      <td>12.8034</td>\n    </tr>\n    <tr>\n      <th>5</th>\n      <td>Jämtland Härjedalen</td>\n      <td>6249</td>\n      <td>4777.157715</td>\n      <td>46</td>\n      <td>100</td>\n      <td>62.3693</td>\n      <td>13.4080</td>\n    </tr>\n    <tr>\n      <th>6</th>\n      <td>Jönköping</td>\n      <td>24236</td>\n      <td>6665.584961</td>\n      <td>219</td>\n      <td>486</td>\n      <td>57.7826</td>\n      <td>14.1618</td>\n    </tr>\n    <tr>\n      <th>7</th>\n      <td>Kalmar</td>\n      <td>10391</td>\n      <td>4233.517578</td>\n      <td>61</td>\n      <td>207</td>\n      <td>56.6634</td>\n      <td>16.3568</td>\n    </tr>\n    <tr>\n      <th>8</th>\n      <td>Kronoberg</td>\n      <td>13080</td>\n      <td>6492.313965</td>\n      <td>79</td>\n      <td>284</td>\n      <td>56.7183</td>\n      <td>14.4115</td>\n    </tr>\n    <tr>\n      <th>9</th>\n      <td>Norrbotten</td>\n      <td>10977</td>\n      <td>4389.166992</td>\n      <td>114</td>\n      <td>212</td>\n      <td>66.8309</td>\n      <td>20.3992</td>\n    </tr>\n    <tr>\n      <th>10</th>\n      <td>Skåne</td>\n      <td>103958</td>\n      <td>7545.069336</td>\n      <td>453</td>\n      <td>1474</td>\n      <td>55.9903</td>\n      <td>13.5958</td>\n    </tr>\n    <tr>\n      <th>11</th>\n      <td>Stockholm</td>\n      <td>144522</td>\n      <td>6079.809570</td>\n      <td>1530</td>\n      <td>3820</td>\n      <td>59.3293</td>\n      <td>18.0686</td>\n    </tr>\n    <tr>\n      <th>12</th>\n      <td>Sörmland</td>\n      <td>12214</td>\n      <td>4104.994141</td>\n      <td>223</td>\n      <td>389</td>\n      <td>59.0336</td>\n      <td>16.7519</td>\n    </tr>\n    <tr>\n      <th>13</th>\n      <td>Uppsala</td>\n      <td>22684</td>\n      <td>5911.709961</td>\n      <td>241</td>\n      <td>467</td>\n      <td>59.8586</td>\n      <td>17.6389</td>\n    </tr>\n    <tr>\n      <th>14</th>\n      <td>Värmland</td>\n      <td>8320</td>\n      <td>2946.029541</td>\n      <td>64</td>\n      <td>162</td>\n      <td>59.7294</td>\n      <td>13.2354</td>\n    </tr>\n    <tr>\n      <th>15</th>\n      <td>Västerbotten</td>\n      <td>11957</td>\n      <td>4400.226562</td>\n      <td>75</td>\n      <td>123</td>\n      <td>65.3337</td>\n      <td>16.5162</td>\n    </tr>\n    <tr>\n      <th>16</th>\n      <td>Västernorrland</td>\n      <td>14034</td>\n      <td>5720.062012</td>\n      <td>112</td>\n      <td>387</td>\n      <td>63.4276</td>\n      <td>17.7292</td>\n    </tr>\n    <tr>\n      <th>17</th>\n      <td>Västmanland</td>\n      <td>17408</td>\n      <td>6310.790527</td>\n      <td>88</td>\n      <td>311</td>\n      <td>59.6714</td>\n      <td>16.2159</td>\n    </tr>\n    <tr>\n      <th>18</th>\n      <td>Västra Götaland</td>\n      <td>105596</td>\n      <td>6118.382324</td>\n      <td>926</td>\n      <td>1993</td>\n      <td>58.2528</td>\n      <td>13.0596</td>\n    </tr>\n    <tr>\n      <th>19</th>\n      <td>Örebro</td>\n      <td>16934</td>\n      <td>5555.683105</td>\n      <td>135</td>\n      <td>285</td>\n      <td>59.2753</td>\n      <td>15.2134</td>\n    </tr>\n    <tr>\n      <th>20</th>\n      <td>Östergötland</td>\n      <td>21135</td>\n      <td>4540.328125</td>\n      <td>217</td>\n      <td>534</td>\n      <td>58.3454</td>\n      <td>15.5198</td>\n    </tr>\n  </tbody>\n</table>\n</div>"
     },
     "metadata": {},
     "execution_count": 32
    }
   ],
   "source": [
    "import plotly.express as px \n",
    "import pandas as pd\n",
    "\n",
    "\n",
    "df = pd.read_csv(\"Regional_Totals_Data.csv\", encoding=\"UTF-8\", header=0)\n",
    "ef = pd.read_csv(\"koordinater.csv\", encoding=\"UTF-8\", header=0)\n",
    "data = df.merge(ef)\n",
    "\n",
    "fig = px.scatter_geo(data, lat=\"lat\", lon=\"lon\", color=\"Region\", scope=\"europe\", size=\"Cases_per_100k_Pop\", hover_name=\"Region\", size_max=10, fitbounds=\"locations\")\n",
    "\n",
    "\n",
    "fig.show()\n",
    "\n",
    "data"
   ]
  },
  {
   "cell_type": "code",
   "execution_count": null,
   "metadata": {},
   "outputs": [],
   "source": [
    "import plotly.express as px \n",
    "import pandas as pd\n",
    "\n",
    "fig = px.scatter_geo()"
   ]
  }
 ]
}